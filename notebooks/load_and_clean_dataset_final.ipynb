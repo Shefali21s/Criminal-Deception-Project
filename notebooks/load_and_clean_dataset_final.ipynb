{
 "cells": [
  {
   "cell_type": "code",
   "execution_count": 1,
   "id": "d84d11bc",
   "metadata": {},
   "outputs": [],
   "source": [
    "import pandas as pd"
   ]
  },
  {
   "cell_type": "code",
   "execution_count": 2,
   "id": "ad8a5b94",
   "metadata": {},
   "outputs": [],
   "source": [
    "# ========== Load LIAR ==========\n",
    "liar_path = \"data/train.tsv\"\n",
    "df_liar = pd.read_csv(\"C:/Users/Shefali/OneDrive/Desktop/Criminal-Deception-Project/data/train.tsv\", sep='\\t', header=None)\n",
    "df_liar.columns = [\n",
    "    'id', 'label_raw', 'statement', 'subject', 'speaker', 'speaker_job_title',\n",
    "    'state_info', 'party_affiliation', 'barely_true_counts', 'false_counts',\n",
    "    'half_true_counts', 'mostly_true_counts', 'pants_on_fire_counts', 'context'\n",
    "]\n",
    "false_labels = [\"pants-fire\", \"false\", \"barely-true\", \"mostly-false\"]\n",
    "df_liar['label'] = df_liar['label_raw'].apply(lambda x: 0 if x in false_labels else 1)\n",
    "df_liar = df_liar[['statement', 'label']].rename(columns={'statement': 'text'})\n",
    "df_liar[\"source\"] = \"LIAR\""
   ]
  },
  {
   "cell_type": "code",
   "execution_count": 3,
   "id": "8e23729d",
   "metadata": {},
   "outputs": [],
   "source": [
    "# ========== Load MU3D ==========\n",
    "mu3d_path = \"data/MU3D Codebook.xlsx\"\n",
    "mu3d_excel = pd.ExcelFile(\"C:/Users/Shefali/OneDrive/Desktop/Criminal-Deception-Project/data/MU3D Codebook.xlsx\")\n",
    "df_mu3d = mu3d_excel.parse('Video-Level Data')\n",
    "df_mu3d = df_mu3d[['Transcription', 'Veracity']].dropna()\n",
    "df_mu3d = df_mu3d.rename(columns={\"Transcription\": \"text\", \"Veracity\": \"label\"})\n",
    "df_mu3d[\"source\"] = \"MU3D\"\n"
   ]
  },
  {
   "cell_type": "code",
   "execution_count": 4,
   "id": "b6b6605c",
   "metadata": {},
   "outputs": [],
   "source": [
    "# ========== Load Deceptive Opinion Spam ==========\n",
    "spam_path = \"data/deceptive-opinion.csv\"\n",
    "df_spam = pd.read_csv(\"C:/Users/Shefali/OneDrive/Desktop/Criminal-Deception-Project/data/deceptive-opinion.csv\")\n",
    "df_spam['label'] = df_spam['deceptive'].apply(lambda x: 0 if x == 1 else 1)\n",
    "df_spam = df_spam[['text', 'label']]\n",
    "df_spam[\"source\"] = \"Spam\""
   ]
  },
  {
   "cell_type": "code",
   "execution_count": 5,
   "id": "c68d7c85",
   "metadata": {},
   "outputs": [],
   "source": [
    "\n",
    "df_all = pd.concat([df_liar, df_mu3d, df_spam], ignore_index=True)\n",
    "df_all = df_all.sample(frac=1, random_state=42).reset_index(drop=True)\n"
   ]
  },
  {
   "cell_type": "code",
   "execution_count": 6,
   "id": "cabbb34b",
   "metadata": {},
   "outputs": [
    {
     "data": {
      "text/html": [
       "<div>\n",
       "<style scoped>\n",
       "    .dataframe tbody tr th:only-of-type {\n",
       "        vertical-align: middle;\n",
       "    }\n",
       "\n",
       "    .dataframe tbody tr th {\n",
       "        vertical-align: top;\n",
       "    }\n",
       "\n",
       "    .dataframe thead th {\n",
       "        text-align: right;\n",
       "    }\n",
       "</style>\n",
       "<table border=\"1\" class=\"dataframe\">\n",
       "  <thead>\n",
       "    <tr style=\"text-align: right;\">\n",
       "      <th></th>\n",
       "      <th>text</th>\n",
       "      <th>label</th>\n",
       "      <th>source</th>\n",
       "    </tr>\n",
       "  </thead>\n",
       "  <tbody>\n",
       "    <tr>\n",
       "      <th>0</th>\n",
       "      <td>The largest low-wage employer is not McDonalds...</td>\n",
       "      <td>0</td>\n",
       "      <td>LIAR</td>\n",
       "    </tr>\n",
       "    <tr>\n",
       "      <th>1</th>\n",
       "      <td>A majority in every state favors path to citiz...</td>\n",
       "      <td>1</td>\n",
       "      <td>LIAR</td>\n",
       "    </tr>\n",
       "    <tr>\n",
       "      <th>2</th>\n",
       "      <td>Says some [states] with the largest reductions...</td>\n",
       "      <td>1</td>\n",
       "      <td>LIAR</td>\n",
       "    </tr>\n",
       "    <tr>\n",
       "      <th>3</th>\n",
       "      <td>Chris Koster opposed protecting the women of M...</td>\n",
       "      <td>1</td>\n",
       "      <td>LIAR</td>\n",
       "    </tr>\n",
       "    <tr>\n",
       "      <th>4</th>\n",
       "      <td>So I told the person that I don’t like that I ...</td>\n",
       "      <td>1</td>\n",
       "      <td>MU3D</td>\n",
       "    </tr>\n",
       "  </tbody>\n",
       "</table>\n",
       "</div>"
      ],
      "text/plain": [
       "                                                text  label source\n",
       "0  The largest low-wage employer is not McDonalds...      0   LIAR\n",
       "1  A majority in every state favors path to citiz...      1   LIAR\n",
       "2  Says some [states] with the largest reductions...      1   LIAR\n",
       "3  Chris Koster opposed protecting the women of M...      1   LIAR\n",
       "4  So I told the person that I don’t like that I ...      1   MU3D"
      ]
     },
     "execution_count": 6,
     "metadata": {},
     "output_type": "execute_result"
    }
   ],
   "source": [
    "# ========== Save ==========\n",
    "df_all.to_csv(\"C:/Users/Shefali/OneDrive/Desktop/Criminal-Deception-Project/outputs/combined_clean.csv\", index=False)\n",
    "\n",
    "# Preview\n",
    "df_all.head()"
   ]
  }
 ],
 "metadata": {
  "kernelspec": {
   "display_name": "Python 3",
   "language": "python",
   "name": "python3"
  },
  "language_info": {
   "codemirror_mode": {
    "name": "ipython",
    "version": 3
   },
   "file_extension": ".py",
   "mimetype": "text/x-python",
   "name": "python",
   "nbconvert_exporter": "python",
   "pygments_lexer": "ipython3",
   "version": "3.13.2"
  }
 },
 "nbformat": 4,
 "nbformat_minor": 5
}
