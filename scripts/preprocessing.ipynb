{
 "cells": [
  {
   "cell_type": "code",
   "execution_count": 1,
   "id": "ba60d39a",
   "metadata": {},
   "outputs": [
    {
     "data": {
      "text/html": [
       "<div>\n",
       "<style scoped>\n",
       "    .dataframe tbody tr th:only-of-type {\n",
       "        vertical-align: middle;\n",
       "    }\n",
       "\n",
       "    .dataframe tbody tr th {\n",
       "        vertical-align: top;\n",
       "    }\n",
       "\n",
       "    .dataframe thead th {\n",
       "        text-align: right;\n",
       "    }\n",
       "</style>\n",
       "<table border=\"1\" class=\"dataframe\">\n",
       "  <thead>\n",
       "    <tr style=\"text-align: right;\">\n",
       "      <th></th>\n",
       "      <th>text</th>\n",
       "      <th>label</th>\n",
       "      <th>source</th>\n",
       "    </tr>\n",
       "  </thead>\n",
       "  <tbody>\n",
       "    <tr>\n",
       "      <th>0</th>\n",
       "      <td>The largest low-wage employer is not McDonalds...</td>\n",
       "      <td>0</td>\n",
       "      <td>LIAR</td>\n",
       "    </tr>\n",
       "    <tr>\n",
       "      <th>1</th>\n",
       "      <td>A majority in every state favors path to citiz...</td>\n",
       "      <td>1</td>\n",
       "      <td>LIAR</td>\n",
       "    </tr>\n",
       "    <tr>\n",
       "      <th>2</th>\n",
       "      <td>Says some [states] with the largest reductions...</td>\n",
       "      <td>1</td>\n",
       "      <td>LIAR</td>\n",
       "    </tr>\n",
       "    <tr>\n",
       "      <th>3</th>\n",
       "      <td>Chris Koster opposed protecting the women of M...</td>\n",
       "      <td>1</td>\n",
       "      <td>LIAR</td>\n",
       "    </tr>\n",
       "    <tr>\n",
       "      <th>4</th>\n",
       "      <td>So I told the person that I don’t like that I ...</td>\n",
       "      <td>1</td>\n",
       "      <td>MU3D</td>\n",
       "    </tr>\n",
       "  </tbody>\n",
       "</table>\n",
       "</div>"
      ],
      "text/plain": [
       "                                                text  label source\n",
       "0  The largest low-wage employer is not McDonalds...      0   LIAR\n",
       "1  A majority in every state favors path to citiz...      1   LIAR\n",
       "2  Says some [states] with the largest reductions...      1   LIAR\n",
       "3  Chris Koster opposed protecting the women of M...      1   LIAR\n",
       "4  So I told the person that I don’t like that I ...      1   MU3D"
      ]
     },
     "execution_count": 1,
     "metadata": {},
     "output_type": "execute_result"
    }
   ],
   "source": [
    "import pandas as pd\n",
    "\n",
    "# Load the combined dataset\n",
    "df = pd.read_csv(\"../outputs/combined_clean.csv\")\n",
    "df.head()\n"
   ]
  },
  {
   "cell_type": "code",
   "execution_count": 2,
   "id": "06064ccc",
   "metadata": {},
   "outputs": [
    {
     "name": "stderr",
     "output_type": "stream",
     "text": [
      "[nltk_data] Downloading package punkt to\n",
      "[nltk_data]     C:\\Users\\Shefali\\AppData\\Roaming\\nltk_data...\n",
      "[nltk_data]   Unzipping tokenizers\\punkt.zip.\n",
      "[nltk_data] Downloading package stopwords to\n",
      "[nltk_data]     C:\\Users\\Shefali\\AppData\\Roaming\\nltk_data...\n",
      "[nltk_data]   Unzipping corpora\\stopwords.zip.\n"
     ]
    },
    {
     "data": {
      "text/plain": [
       "True"
      ]
     },
     "execution_count": 2,
     "metadata": {},
     "output_type": "execute_result"
    }
   ],
   "source": [
    "import nltk\n",
    "nltk.download('punkt')\n",
    "nltk.download('stopwords')\n"
   ]
  },
  {
   "cell_type": "code",
   "execution_count": 3,
   "id": "08529384",
   "metadata": {},
   "outputs": [],
   "source": [
    "import re\n",
    "from nltk.corpus import stopwords\n",
    "from nltk.tokenize import word_tokenize\n",
    "\n",
    "stop_words = set(stopwords.words('english'))\n",
    "\n",
    "def clean_text(text):\n",
    "    if pd.isnull(text):\n",
    "        return \"\"\n",
    "    text = text.lower()\n",
    "    text = re.sub(r\"http\\S+|www\\S+|https\\S+\", '', text)  # remove URLs\n",
    "    text = re.sub(r\"[^a-zA-Z\\s]\", '', text)              # remove punctuation/numbers\n",
    "    text = re.sub(r\"\\s+\", ' ', text).strip()             # remove extra spaces\n",
    "    words = word_tokenize(text)\n",
    "    words = [word for word in words if word not in stop_words]\n",
    "    return ' '.join(words)\n"
   ]
  },
  {
   "cell_type": "code",
   "execution_count": 4,
   "id": "dd5a422a",
   "metadata": {},
   "outputs": [
    {
     "data": {
      "text/html": [
       "<div>\n",
       "<style scoped>\n",
       "    .dataframe tbody tr th:only-of-type {\n",
       "        vertical-align: middle;\n",
       "    }\n",
       "\n",
       "    .dataframe tbody tr th {\n",
       "        vertical-align: top;\n",
       "    }\n",
       "\n",
       "    .dataframe thead th {\n",
       "        text-align: right;\n",
       "    }\n",
       "</style>\n",
       "<table border=\"1\" class=\"dataframe\">\n",
       "  <thead>\n",
       "    <tr style=\"text-align: right;\">\n",
       "      <th></th>\n",
       "      <th>text</th>\n",
       "      <th>clean_text</th>\n",
       "      <th>label</th>\n",
       "      <th>source</th>\n",
       "    </tr>\n",
       "  </thead>\n",
       "  <tbody>\n",
       "    <tr>\n",
       "      <th>0</th>\n",
       "      <td>The largest low-wage employer is not McDonalds...</td>\n",
       "      <td>largest lowwage employer mcdonalds walmart us ...</td>\n",
       "      <td>0</td>\n",
       "      <td>LIAR</td>\n",
       "    </tr>\n",
       "    <tr>\n",
       "      <th>1</th>\n",
       "      <td>A majority in every state favors path to citiz...</td>\n",
       "      <td>majority every state favors path citizenship u...</td>\n",
       "      <td>1</td>\n",
       "      <td>LIAR</td>\n",
       "    </tr>\n",
       "    <tr>\n",
       "      <th>2</th>\n",
       "      <td>Says some [states] with the largest reductions...</td>\n",
       "      <td>says states largest reductions crime also lowe...</td>\n",
       "      <td>1</td>\n",
       "      <td>LIAR</td>\n",
       "    </tr>\n",
       "    <tr>\n",
       "      <th>3</th>\n",
       "      <td>Chris Koster opposed protecting the women of M...</td>\n",
       "      <td>chris koster opposed protecting women missouri...</td>\n",
       "      <td>1</td>\n",
       "      <td>LIAR</td>\n",
       "    </tr>\n",
       "    <tr>\n",
       "      <th>4</th>\n",
       "      <td>So I told the person that I don’t like that I ...</td>\n",
       "      <td>told person dont like like guy um like footbal...</td>\n",
       "      <td>1</td>\n",
       "      <td>MU3D</td>\n",
       "    </tr>\n",
       "  </tbody>\n",
       "</table>\n",
       "</div>"
      ],
      "text/plain": [
       "                                                text  \\\n",
       "0  The largest low-wage employer is not McDonalds...   \n",
       "1  A majority in every state favors path to citiz...   \n",
       "2  Says some [states] with the largest reductions...   \n",
       "3  Chris Koster opposed protecting the women of M...   \n",
       "4  So I told the person that I don’t like that I ...   \n",
       "\n",
       "                                          clean_text  label source  \n",
       "0  largest lowwage employer mcdonalds walmart us ...      0   LIAR  \n",
       "1  majority every state favors path citizenship u...      1   LIAR  \n",
       "2  says states largest reductions crime also lowe...      1   LIAR  \n",
       "3  chris koster opposed protecting women missouri...      1   LIAR  \n",
       "4  told person dont like like guy um like footbal...      1   MU3D  "
      ]
     },
     "execution_count": 4,
     "metadata": {},
     "output_type": "execute_result"
    }
   ],
   "source": [
    "df['clean_text'] = df['text'].apply(clean_text)\n",
    "df[['text', 'clean_text', 'label', 'source']].head()\n"
   ]
  },
  {
   "cell_type": "code",
   "execution_count": 5,
   "id": "46927d9a",
   "metadata": {},
   "outputs": [
    {
     "name": "stdout",
     "output_type": "stream",
     "text": [
      "✅ Preprocessed file saved.\n"
     ]
    },
    {
     "name": "stderr",
     "output_type": "stream",
     "text": [
      "<>:1: SyntaxWarning: invalid escape sequence '\\D'\n",
      "<>:1: SyntaxWarning: invalid escape sequence '\\D'\n",
      "C:\\Users\\Shefali\\AppData\\Local\\Temp\\ipykernel_27124\\2719787772.py:1: SyntaxWarning: invalid escape sequence '\\D'\n",
      "  df.to_csv(\"C:/Users/Shefali/OneDrive\\Desktop/Criminal-Deception-Project/outputs/combined_clean_preprocessed.csv\", index=False)\n"
     ]
    }
   ],
   "source": [
    "df.to_csv(\"C:/Users/Shefali/OneDrive\\Desktop/Criminal-Deception-Project/outputs/combined_clean_preprocessed.csv\", index=False)\n",
    "print(\"✅ Preprocessed file saved.\")\n"
   ]
  }
 ],
 "metadata": {
  "kernelspec": {
   "display_name": "Python 3",
   "language": "python",
   "name": "python3"
  },
  "language_info": {
   "codemirror_mode": {
    "name": "ipython",
    "version": 3
   },
   "file_extension": ".py",
   "mimetype": "text/x-python",
   "name": "python",
   "nbconvert_exporter": "python",
   "pygments_lexer": "ipython3",
   "version": "3.13.2"
  }
 },
 "nbformat": 4,
 "nbformat_minor": 5
}
